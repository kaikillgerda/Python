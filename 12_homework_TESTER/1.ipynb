{
 "cells": [
  {
   "cell_type": "markdown",
   "metadata": {},
   "source": [
    "Дана функция f1(x) = -18x^3 + 5x^2 + 10x - 30\n",
    "Дана функция f(x) = 2x^3 + 2x^2 - 18x - 18\n",
    "Дана функция f(x) = (x^2 + 3)/(3 * (x + 1))\n",
    "\n",
    "+ 1. Определить корни\n",
    "\n",
    "+ 2. Найти интервалы, на которых функция возрастает\n",
    "\n",
    "+ 3. Найти интервалы, на которых функция убывает\n",
    "\n",
    "+ 4. Построить график\n",
    "\n",
    "+ 5. Вычислить вершину\n",
    "\n",
    "+ 6. Определить промежутки, на котором f > 0\n",
    "\n",
    "+ 7. Определить промежутки, на котором f < 0"
   ]
  },
  {
   "cell_type": "code",
   "execution_count": 53,
   "metadata": {},
   "outputs": [],
   "source": [
    "import math\n",
    "from sympy import *\n",
    "from sympy.plotting import plot"
   ]
  },
  {
   "cell_type": "code",
   "execution_count": 54,
   "metadata": {},
   "outputs": [
    {
     "data": {
      "text/latex": [
       "$\\displaystyle 2 x^{3} + 2 x^{2} - 18 x - 18$"
      ],
      "text/plain": [
       "2*x**3 + 2*x**2 - 18*x - 18"
      ]
     },
     "execution_count": 54,
     "metadata": {},
     "output_type": "execute_result"
    }
   ],
   "source": [
    "x = Symbol('x')\n",
    "#fx = -18 * x ** 3 + 5 * x ** 2 + 10 * x - 30\n",
    "fx = 2 * x ** 3 + 2 * x ** 2 - 18 * x - 18\n",
    "#fx = (x ** 2 + 3) / (3 * (x + 1))\n",
    "fx"
   ]
  },
  {
   "cell_type": "code",
   "execution_count": 55,
   "metadata": {},
   "outputs": [
    {
     "name": "stdout",
     "output_type": "stream",
     "text": [
      "  2e+06 |                                                      /\n",
      "        |                                                     / \n",
      "        |                                                    /  \n",
      "        |                                                   /   \n",
      "        |                                                  /    \n",
      "        |                                                ..     \n",
      "        |                                              ..       \n",
      "        |                                            ..         \n",
      "        |                                          ..           \n",
      "        |                                     .....             \n",
      "      0 |-----------------....................------------------\n",
      "        |             ....                                      \n",
      "        |          ...                                          \n",
      "        |        ..                                             \n",
      "        |       /                                               \n",
      "        |     ..                                                \n",
      "        |    /                                                  \n",
      "        |   /                                                   \n",
      "        |  /                                                    \n",
      "        | /                                                     \n",
      " -2e+06 |_______________________________________________________\n",
      "         -100                       0                          100\n"
     ]
    }
   ],
   "source": [
    "p = plot(fx, (x, -100, 100))"
   ]
  },
  {
   "cell_type": "code",
   "execution_count": 56,
   "metadata": {},
   "outputs": [
    {
     "data": {
      "text/plain": [
       "[-3, -1, 3]"
      ]
     },
     "execution_count": 56,
     "metadata": {},
     "output_type": "execute_result"
    }
   ],
   "source": [
    "solve(fx) # корни\n"
   ]
  },
  {
   "cell_type": "code",
   "execution_count": 57,
   "metadata": {},
   "outputs": [
    {
     "name": "stdout",
     "output_type": "stream",
     "text": [
      "6*x**2 + 4*x - 18\n"
     ]
    }
   ],
   "source": [
    "pr = diff(fx)\n",
    "print(pr)"
   ]
  },
  {
   "cell_type": "code",
   "execution_count": 58,
   "metadata": {},
   "outputs": [
    {
     "name": "stdout",
     "output_type": "stream",
     "text": [
      "-1/3 + 2*sqrt(7)/3\n"
     ]
    }
   ],
   "source": [
    "apex = solve(diff(fx))[0] # вершина\n",
    "print(apex)"
   ]
  },
  {
   "cell_type": "code",
   "execution_count": 59,
   "metadata": {},
   "outputs": [
    {
     "data": {
      "text/latex": [
       "$\\displaystyle \\left(-\\infty < x \\wedge x < - \\frac{2 \\sqrt{7}}{3} - \\frac{1}{3}\\right) \\vee \\left(x < \\infty \\wedge - \\frac{1}{3} + \\frac{2 \\sqrt{7}}{3} < x\\right)$"
      ],
      "text/plain": [
       "((-oo < x) & (x < -2*sqrt(7)/3 - 1/3)) | ((x < oo) & (-1/3 + 2*sqrt(7)/3 < x))"
      ]
     },
     "execution_count": 59,
     "metadata": {},
     "output_type": "execute_result"
    }
   ],
   "source": [
    "solve(diff(fx) > 0) # интервалы, на которых функция возрастает"
   ]
  },
  {
   "cell_type": "code",
   "execution_count": 60,
   "metadata": {},
   "outputs": [
    {
     "data": {
      "text/latex": [
       "$\\displaystyle x < - \\frac{1}{3} + \\frac{2 \\sqrt{7}}{3} \\wedge - \\frac{2 \\sqrt{7}}{3} - \\frac{1}{3} < x$"
      ],
      "text/plain": [
       "(x < -1/3 + 2*sqrt(7)/3) & (-2*sqrt(7)/3 - 1/3 < x)"
      ]
     },
     "execution_count": 60,
     "metadata": {},
     "output_type": "execute_result"
    }
   ],
   "source": [
    "solve(diff(fx) < 0) # интервалы, на которых функция возрастает"
   ]
  },
  {
   "cell_type": "code",
   "execution_count": 61,
   "metadata": {},
   "outputs": [
    {
     "data": {
      "text/latex": [
       "$\\displaystyle \\left(-3 < x \\wedge x < -1\\right) \\vee \\left(3 < x \\wedge x < \\infty\\right)$"
      ],
      "text/plain": [
       "((-3 < x) & (x < -1)) | ((3 < x) & (x < oo))"
      ]
     },
     "execution_count": 61,
     "metadata": {},
     "output_type": "execute_result"
    }
   ],
   "source": [
    "solve(fx > 0) "
   ]
  },
  {
   "cell_type": "code",
   "execution_count": 62,
   "metadata": {},
   "outputs": [
    {
     "data": {
      "text/latex": [
       "$\\displaystyle \\left(-\\infty < x \\wedge x < -3\\right) \\vee \\left(-1 < x \\wedge x < 3\\right)$"
      ],
      "text/plain": [
       "((-oo < x) & (x < -3)) | ((-1 < x) & (x < 3))"
      ]
     },
     "execution_count": 62,
     "metadata": {},
     "output_type": "execute_result"
    }
   ],
   "source": [
    "solve(fx < 0) "
   ]
  }
 ],
 "metadata": {
  "kernelspec": {
   "display_name": "Python 3.10.9 ('.folder': venv)",
   "language": "python",
   "name": "python3"
  },
  "language_info": {
   "codemirror_mode": {
    "name": "ipython",
    "version": 3
   },
   "file_extension": ".py",
   "mimetype": "text/x-python",
   "name": "python",
   "nbconvert_exporter": "python",
   "pygments_lexer": "ipython3",
   "version": "3.10.9"
  },
  "vscode": {
   "interpreter": {
    "hash": "c49aed8fb6fe7cb14ae9d62f85066671db37443e67ecd5e099da9e28d0165394"
   }
  }
 },
 "nbformat": 4,
 "nbformat_minor": 4
}
