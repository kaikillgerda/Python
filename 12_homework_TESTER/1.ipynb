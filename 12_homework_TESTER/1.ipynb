{
 "cells": [
  {
   "cell_type": "markdown",
   "metadata": {},
   "source": [
    "Дана функция f1(x) = -18x^3 + 5x^2 + 10x - 30\n",
    "Дана функция f(x) = 2x^3 + 2x^2 - 18x - 18\n",
    "Дана функция f(x) = (x^2 + 3)/(3 * (x + 1))\n",
    "\n",
    "+ 1. Определить корни\n",
    "\n",
    "+ 2. Найти интервалы, на которых функция возрастает\n",
    "\n",
    "+ 3. Найти интервалы, на которых функция убывает\n",
    "\n",
    "+ 4. Построить график\n",
    "\n",
    "+ 5. Вычислить вершину\n",
    "\n",
    "+ 6. Определить промежутки, на котором f > 0\n",
    "\n",
    "+ 7. Определить промежутки, на котором f < 0"
   ]
  },
  {
   "cell_type": "code",
   "execution_count": 36,
   "metadata": {},
   "outputs": [],
   "source": [
    "import math\n",
    "from sympy import *\n",
    "from sympy.plotting import plot"
   ]
  },
  {
   "cell_type": "code",
   "execution_count": 44,
   "metadata": {},
   "outputs": [
    {
     "data": {
      "text/latex": [
       "$\\displaystyle \\frac{x^{2} + 3}{3 x + 3}$"
      ],
      "text/plain": [
       "(x**2 + 3)/(3*x + 3)"
      ]
     },
     "execution_count": 44,
     "metadata": {},
     "output_type": "execute_result"
    }
   ],
   "source": [
    "x = Symbol('x')\n",
    "#fx = -18 * x ** 3 + 5 * x ** 2 + 10 * x - 30\n",
    "#fx = 2 * x ** 3 + 2 * x ** 2 - 18 * x - 18\n",
    "fx = (x ** 2 + 3) / (3 * (x + 1))\n",
    "fx"
   ]
  },
  {
   "cell_type": "code",
   "execution_count": 45,
   "metadata": {},
   "outputs": [
    {
     "name": "stdout",
     "output_type": "stream",
     "text": [
      "     33 |                                                     ..\n",
      "        |                                                  ...  \n",
      "        |                                                ..     \n",
      "        |                                             ...       \n",
      "        |                                          ...          \n",
      "        |                                        ..             \n",
      "        |                                     ...               \n",
      "        |                                  ...                  \n",
      "        |                               ...                     \n",
      "        |                            ...                        \n",
      "   -0.5 |--------------------------..---------------------------\n",
      "        |                       ...                             \n",
      "        |                     ..                                \n",
      "        |                  ...                                  \n",
      "        |               ...                                     \n",
      "        |            ...                                        \n",
      "        |          ..                                           \n",
      "        |       ...                                             \n",
      "        |    ...                                                \n",
      "        |  ..                                                   \n",
      "    -34 |_______________________________________________________\n",
      "         -100                       0                          100\n"
     ]
    }
   ],
   "source": [
    "p = plot(fx, (x, -100, 100))"
   ]
  },
  {
   "cell_type": "code",
   "execution_count": 46,
   "metadata": {},
   "outputs": [
    {
     "data": {
      "text/plain": [
       "[-sqrt(3)*I, sqrt(3)*I]"
      ]
     },
     "execution_count": 46,
     "metadata": {},
     "output_type": "execute_result"
    }
   ],
   "source": [
    "solve(fx) # корни\n"
   ]
  },
  {
   "cell_type": "code",
   "execution_count": 47,
   "metadata": {},
   "outputs": [
    {
     "name": "stdout",
     "output_type": "stream",
     "text": [
      "2*x/(3*x + 3) - 3*(x**2 + 3)/(3*x + 3)**2\n"
     ]
    }
   ],
   "source": [
    "pr = diff(fx)\n",
    "print(pr)"
   ]
  },
  {
   "cell_type": "code",
   "execution_count": 48,
   "metadata": {},
   "outputs": [
    {
     "name": "stdout",
     "output_type": "stream",
     "text": [
      "-3\n"
     ]
    }
   ],
   "source": [
    "apex = solve(diff(fx))[0] # вершина\n",
    "print(apex)"
   ]
  },
  {
   "cell_type": "code",
   "execution_count": 49,
   "metadata": {},
   "outputs": [
    {
     "data": {
      "text/latex": [
       "$\\displaystyle \\left(-\\infty < x \\wedge x < -3\\right) \\vee \\left(1 < x \\wedge x < \\infty\\right)$"
      ],
      "text/plain": [
       "((-oo < x) & (x < -3)) | ((1 < x) & (x < oo))"
      ]
     },
     "execution_count": 49,
     "metadata": {},
     "output_type": "execute_result"
    }
   ],
   "source": [
    "solve(diff(fx) > 0) # интервалы, на которых функция возрастает"
   ]
  },
  {
   "cell_type": "code",
   "execution_count": 50,
   "metadata": {},
   "outputs": [
    {
     "data": {
      "text/latex": [
       "$\\displaystyle x > -3 \\wedge x < 1 \\wedge x \\neq -1$"
      ],
      "text/plain": [
       "(x > -3) & (x < 1) & Ne(x, -1)"
      ]
     },
     "execution_count": 50,
     "metadata": {},
     "output_type": "execute_result"
    }
   ],
   "source": [
    "solve(diff(fx) < 0) # интервалы, на которых функция возрастает"
   ]
  },
  {
   "cell_type": "code",
   "execution_count": 51,
   "metadata": {},
   "outputs": [
    {
     "data": {
      "text/latex": [
       "$\\displaystyle -1 < x \\wedge x < \\infty$"
      ],
      "text/plain": [
       "(-1 < x) & (x < oo)"
      ]
     },
     "execution_count": 51,
     "metadata": {},
     "output_type": "execute_result"
    }
   ],
   "source": [
    "solve(fx > 0) "
   ]
  },
  {
   "cell_type": "code",
   "execution_count": 52,
   "metadata": {},
   "outputs": [
    {
     "data": {
      "text/latex": [
       "$\\displaystyle -\\infty < x \\wedge x < -1$"
      ],
      "text/plain": [
       "(-oo < x) & (x < -1)"
      ]
     },
     "execution_count": 52,
     "metadata": {},
     "output_type": "execute_result"
    }
   ],
   "source": [
    "solve(fx < 0) "
   ]
  }
 ],
 "metadata": {
  "kernelspec": {
   "display_name": "Python 3.10.9 ('.folder': venv)",
   "language": "python",
   "name": "python3"
  },
  "language_info": {
   "codemirror_mode": {
    "name": "ipython",
    "version": 3
   },
   "file_extension": ".py",
   "mimetype": "text/x-python",
   "name": "python",
   "nbconvert_exporter": "python",
   "pygments_lexer": "ipython3",
   "version": "3.10.9"
  },
  "vscode": {
   "interpreter": {
    "hash": "c49aed8fb6fe7cb14ae9d62f85066671db37443e67ecd5e099da9e28d0165394"
   }
  }
 },
 "nbformat": 4,
 "nbformat_minor": 4
}
