{
 "cells": [
  {
   "cell_type": "code",
   "execution_count": null,
   "metadata": {
    "datalore": {
     "hide_input_from_viewers": false,
     "hide_output_from_viewers": false,
     "node_id": "Tj41MqRmUrJUeqkYyqoyoc",
     "type": "CODE"
    }
   },
   "outputs": [],
   "source": [
    "from sympy import *\n",
    "from sympy.plotting import plot\n",
    "\n",
    "x = Symbol(\"x\")\n",
    "\n",
    "# lesson function \n",
    "# f = 5 * x ** 2 + 10 * x - 30\n",
    "\n",
    "# homework functions\n",
    "# f = -18 * x ** 3 + 5 * x ** 2 + 10 * x - 30\n",
    "# f = 2 * x ** 3 + 2 * x ** 2 - 18 * x - 18\n",
    "f = (x ** 2 + 3) / (3 * (x + 1))\n",
    "\n",
    "# f = -12 * x ** 4 * sin(cos(x)) - 18 * x ** 3 + 5 * x ** 2 + 10 * x - 30\n",
    "# f = 3 * x ** 4 - 16 * x ** 3 + 24 * x ** 2 - 11\n",
    "f"
   ]
  },
  {
   "attachments": {},
   "cell_type": "markdown",
   "metadata": {
    "datalore": {
     "hide_input_from_viewers": false,
     "hide_output_from_viewers": false,
     "node_id": "RmRYerUAtKuzT4G5UdIGn4",
     "type": "MD"
    }
   },
   "source": [
    "## 1. Определить корни. \n",
    "## Нули функции."
   ]
  },
  {
   "cell_type": "code",
   "execution_count": 7,
   "metadata": {
    "datalore": {
     "hide_input_from_viewers": false,
     "hide_output_from_viewers": false,
     "node_id": "Fcuw0s0Dov5ANQskZUoGiZ",
     "type": "CODE"
    }
   },
   "outputs": [
    {
     "data": {
      "text/latex": [
       "$\\displaystyle \\left\\{-1.2\\right\\}$"
      ]
     },
     "metadata": {},
     "output_type": "display_data"
    }
   ],
   "source": [
    "solveset(f, x, Reals).evalf(2)"
   ]
  },
  {
   "attachments": {},
   "cell_type": "markdown",
   "metadata": {
    "datalore": {
     "hide_input_from_viewers": false,
     "hide_output_from_viewers": false,
     "node_id": "EQ5N3SG7o26OPDpcQ3PrvA",
     "type": "MD"
    }
   },
   "source": [
    "## 2. Найти интервалы, на которых функция возрастает\n",
    "## 3. Найти интервалы, на которых функция убывает"
   ]
  },
  {
   "cell_type": "code",
   "execution_count": 9,
   "metadata": {
    "datalore": {
     "hide_input_from_viewers": false,
     "hide_output_from_viewers": false,
     "node_id": "kvKX3D5q9njQaRuE7OhZCt",
     "type": "CODE"
    }
   },
   "outputs": [
    {
     "name": "stdout",
     "output_type": "stream",
     "text": [
      "[-oo, -3.0, 1.0, oo, -1]\n",
      "[-4.0, -3.0, -1, 1.0, 2.0]\n",
      "Убывает на интервалах:\n",
      "[-3.0, -1]\n",
      "[-1, 1.0]\n",
      "Возрастает на интервалах:\n",
      "[-oo, -3.0]\n",
      "[1.0, oo]\n"
     ]
    }
   ],
   "source": [
    "# https://poznayka.org/s79613t1.html\n",
    "from random import uniform\n",
    "\n",
    "f_base = [-oo, oo]\n",
    "f_base[1:1] = solveset(diff(f), x, Reals).evalf(2)\n",
    "\n",
    "# 3 функция\n",
    "f_base.extend(solve((3 * (x + 1)), x))\n",
    "\n",
    "print(f_base)\n",
    "f_base.sort()\n",
    "\n",
    "f_diff = f_base.copy()\n",
    "f_diff[0] = f_diff[1] - 1\n",
    "f_diff[-1] = f_diff[-2] + 1\n",
    "\n",
    "\n",
    "ff = diff(f)\n",
    "\n",
    "# тест\n",
    "# f_diff.append(limit(diff(f), x, 0))\n",
    "\n",
    "print(f_diff)\n",
    "\n",
    "incr_list = []\n",
    "decr_list = []\n",
    "\n",
    "for i in range(len(f_diff) - 1):\n",
    "    val = ff.subs(x, uniform(f_diff[i], f_diff[i + 1]))\n",
    "    if val > 0:\n",
    "        incr_list.append(f\"[{f_base[i]}, {f_base[i + 1]}]\")\n",
    "    else:\n",
    "        decr_list.append(f\"[{f_base[i]}, {f_base[i + 1]}]\")\n",
    "\n",
    "print(f\"Убывает на интервалах:\", *decr_list, sep=\"\\n\")\n",
    "print(f\"Возрастает на интервалах:\", *incr_list, sep=\"\\n\")"
   ]
  },
  {
   "attachments": {},
   "cell_type": "markdown",
   "metadata": {
    "datalore": {
     "hide_input_from_viewers": false,
     "hide_output_from_viewers": false,
     "node_id": "Q0bnt9toVZWfrwXazIxmEH",
     "type": "MD"
    }
   },
   "source": [
    "## 4. Построить график"
   ]
  },
  {
   "cell_type": "code",
   "execution_count": 11,
   "metadata": {
    "datalore": {
     "hide_input_from_viewers": false,
     "hide_output_from_viewers": false,
     "node_id": "uqFSuF6no0KTbEI5OZueSk",
     "type": "CODE"
    }
   },
   "outputs": [],
   "source": [
    "# 1\n",
    "# plot(f, (x, -1.2, 1), legend=True)\n",
    "\n",
    "# 2\n",
    "# plot(f, (x, -4, 4), legend=True)\n",
    "\n",
    "# 3\n",
    "# plot(f, (x, -4, 3), ylim=(-5, 5), legend=True)\n",
    "\n",
    "f_1 = plot(f, (x, -5, -1.1), show=False)\n",
    "f_2 = plot(f, (x, -0.9, 5), show=False)\n",
    "f_1.append(f_2[0])\n",
    "f_1.show()\n",
    "\n",
    "# plot(f, (x, -1, 1.2), legend=True)\n",
    "# plot(f, (x, -4, 7), legend=True)\n",
    "# plot(f, (x, -10, 10), legend=True)"
   ]
  },
  {
   "attachments": {},
   "cell_type": "markdown",
   "metadata": {
    "datalore": {
     "hide_input_from_viewers": false,
     "hide_output_from_viewers": false,
     "node_id": "8tap0oml6KFR7oqkG7o6qh",
     "type": "MD"
    }
   },
   "source": [
    "## 5. Вычислить вершину\n",
    "##    Экстремумы функции"
   ]
  },
  {
   "cell_type": "code",
   "execution_count": 5,
   "metadata": {
    "datalore": {
     "hide_input_from_viewers": false,
     "hide_output_from_viewers": false,
     "node_id": "eZoSEdqVR3aqy9U7sjK5IE",
     "type": "CODE"
    }
   },
   "outputs": [
    {
     "name": "stdout",
     "output_type": "stream",
     "text": [
      "Точка максимума: -2.1, 10\n",
      "Точка минимума: 1.4, -34\n"
     ]
    }
   ],
   "source": [
    "from random import uniform\n",
    "\n",
    "f_diff = sorted(solveset(diff(f), x, Reals).evalf(2))\n",
    "f_diff.insert(0, f_diff[0] - 1)\n",
    "f_1 = diff(f)\n",
    "\n",
    "ext_list = []\n",
    "\n",
    "for i, val in enumerate(f_diff):\n",
    "    ext_list.append(f_1.subs(x, uniform(val, f_diff[i] + 1)))\n",
    "    if i != 0:\n",
    "        if ext_list[i - 1] < 0 < ext_list[i]:\n",
    "            print(f\"Точка минимума: {val}, {f.subs(x, val).evalf(2)}\")\n",
    "        elif ext_list[i - 1] > 0 > ext_list[i]:\n",
    "            print(f\"Точка максимума: {val}, {f.subs(x, val).evalf(2)}\")"
   ]
  },
  {
   "attachments": {},
   "cell_type": "markdown",
   "metadata": {
    "datalore": {
     "hide_input_from_viewers": false,
     "hide_output_from_viewers": false,
     "node_id": "9N0dL0EdLKusNcfNvEDoyu",
     "type": "MD"
    }
   },
   "source": [
    "## 6. Определить промежутки, на котором f > 0\n",
    "## 7. Определить промежутки, на котором f < 0\n",
    "##    Промежутки знакопостоянства"
   ]
  },
  {
   "cell_type": "code",
   "execution_count": 6,
   "metadata": {
    "datalore": {
     "hide_input_from_viewers": false,
     "hide_output_from_viewers": false,
     "node_id": "MQjb50izik9pkZZFmThEaB",
     "type": "CODE"
    }
   },
   "outputs": [
    {
     "name": "stdout",
     "output_type": "stream",
     "text": [
      "f > 0:"
     ]
    },
    {
     "data": {
      "text/latex": [
       "$\\displaystyle \\left(-3.0, -1.0\\right) \\cup \\left(3.0, \\infty\\right)$"
      ]
     },
     "metadata": {},
     "output_type": "display_data"
    }
   ],
   "source": [
    "#    https://openvorkuta.ru/chto-takoe-promezhutki-zakona-postoianstva\n",
    "\n",
    "print(\"f > 0:\", end=\"\")\n",
    "solveset(f > 0, x, Reals).evalf(2)"
   ]
  },
  {
   "cell_type": "code",
   "execution_count": 7,
   "metadata": {
    "datalore": {
     "hide_input_from_viewers": false,
     "hide_output_from_viewers": false,
     "node_id": "NyVECtfM39oZG832oXKbSG",
     "type": "CODE"
    }
   },
   "outputs": [
    {
     "name": "stdout",
     "output_type": "stream",
     "text": [
      "f < 0:"
     ]
    },
    {
     "data": {
      "text/latex": [
       "$\\displaystyle \\left(-\\infty, -3.0\\right) \\cup \\left(-1.0, 3.0\\right)$"
      ]
     },
     "metadata": {},
     "output_type": "display_data"
    }
   ],
   "source": [
    "print(\"f < 0:\", end=\"\")\n",
    "solveset(f < 0, x, Reals).evalf(2)"
   ]
  }
 ],
 "metadata": {
  "datalore": {
   "base_environment": "default",
   "computation_mode": "JUPYTER",
   "package_manager": "pip",
   "packages": [],
   "version": 1
  },
  "kernelspec": {
   "display_name": "Python 3.10.9 ('.folder': venv)",
   "language": "python",
   "name": "python3"
  },
  "language_info": {
   "name": "python",
   "version": "3.10.9"
  },
  "vscode": {
   "interpreter": {
    "hash": "c49aed8fb6fe7cb14ae9d62f85066671db37443e67ecd5e099da9e28d0165394"
   }
  }
 },
 "nbformat": 4,
 "nbformat_minor": 4
}
