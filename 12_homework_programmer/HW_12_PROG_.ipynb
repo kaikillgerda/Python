{
 "cells": [
  {
   "cell_type": "markdown",
   "metadata": {},
   "source": [
    "Дана функция f(x) = -5x^2 + 10x - 150\n",
    "\n",
    "+ 1. Определить корни\n",
    "\n",
    "+ 2. Найти интервалы, на которых функция возрастает\n",
    "\n",
    "+ 3. Найти интервалы, на которых функция убывает\n",
    "\n",
    "+ 4. Построить график\n",
    "\n",
    "+ 5. Вычислить вершину\n",
    "\n",
    "+ 6. Определить промежутки, на котором f > 0\n",
    "\n",
    "+ 7. Определить промежутки, на котором f < 0"
   ]
  },
  {
   "cell_type": "code",
   "execution_count": 1,
   "metadata": {},
   "outputs": [],
   "source": [
    "import math\n",
    "from sympy import *\n",
    "from sympy.plotting import plot"
   ]
  },
  {
   "cell_type": "code",
   "execution_count": 5,
   "metadata": {},
   "outputs": [
    {
     "data": {
      "text/latex": [
       "$\\displaystyle - 5 x^{2} + 10 x - 150$"
      ],
      "text/plain": [
       "-5*x**2 + 10*x - 150"
      ]
     },
     "execution_count": 5,
     "metadata": {},
     "output_type": "execute_result"
    }
   ],
   "source": [
    "x = Symbol('x')\n",
    "fx = -5 * x ** 2 + 10 * x - 150\n",
    "fx"
   ]
  },
  {
   "cell_type": "code",
   "execution_count": 14,
   "metadata": {},
   "outputs": [
    {
     "name": "stdout",
     "output_type": "stream",
     "text": [
      "      0 |                        ........                       \n",
      "        |                    ....        ...                    \n",
      "        |                  ..               ..                  \n",
      "        |                ..                   ..                \n",
      "        |               /                       ..              \n",
      "        |              /                          \\             \n",
      "        |            ..                            \\            \n",
      "        |           /                               \\           \n",
      "        |          /                                 \\          \n",
      "        |         /                                   ..        \n",
      " -25500 |--------/----------------------------------------------\n",
      "        |       /                                       .       \n",
      "        |      /                                         \\      \n",
      "        |     .                                           \\     \n",
      "        |                                                  \\    \n",
      "        |    .                                              .   \n",
      "        |   /                                                   \n",
      "        |  .                                                 .  \n",
      "        |                                                     \\ \n",
      "        | .                                                    \\\n",
      " -51000 |_______________________________________________________\n",
      "         -100                       0                          100\n"
     ]
    }
   ],
   "source": [
    "p = plot(fx, (x, -100, 100))"
   ]
  },
  {
   "cell_type": "code",
   "execution_count": 7,
   "metadata": {},
   "outputs": [
    {
     "name": "stdout",
     "output_type": "stream",
     "text": [
      "1 - sqrt(29)*I 1 + sqrt(29)*I\n"
     ]
    }
   ],
   "source": [
    "sqrt_1, sqrt_2  = solve(fx) # корни\n",
    "print(sqrt_1, sqrt_2)"
   ]
  },
  {
   "cell_type": "code",
   "execution_count": 8,
   "metadata": {},
   "outputs": [
    {
     "name": "stdout",
     "output_type": "stream",
     "text": [
      "10 - 10*x\n"
     ]
    }
   ],
   "source": [
    "pr = diff(fx)\n",
    "print(pr)"
   ]
  },
  {
   "cell_type": "code",
   "execution_count": 9,
   "metadata": {},
   "outputs": [
    {
     "name": "stdout",
     "output_type": "stream",
     "text": [
      "1\n"
     ]
    }
   ],
   "source": [
    "apex = solve(diff(fx))[0] # вершина\n",
    "print(apex)"
   ]
  },
  {
   "cell_type": "code",
   "execution_count": 10,
   "metadata": {},
   "outputs": [
    {
     "data": {
      "text/latex": [
       "$\\displaystyle -\\infty < x \\wedge x < 1$"
      ],
      "text/plain": [
       "(-oo < x) & (x < 1)"
      ]
     },
     "execution_count": 10,
     "metadata": {},
     "output_type": "execute_result"
    }
   ],
   "source": [
    "solve(diff(fx) > 0) # интервалы, на которых функция возрастает"
   ]
  },
  {
   "cell_type": "code",
   "execution_count": 11,
   "metadata": {},
   "outputs": [
    {
     "data": {
      "text/latex": [
       "$\\displaystyle 1 < x \\wedge x < \\infty$"
      ],
      "text/plain": [
       "(1 < x) & (x < oo)"
      ]
     },
     "execution_count": 11,
     "metadata": {},
     "output_type": "execute_result"
    }
   ],
   "source": [
    "solve(diff(fx) < 0) # интервалы, на которых функция возрастает"
   ]
  },
  {
   "cell_type": "code",
   "execution_count": 12,
   "metadata": {},
   "outputs": [
    {
     "data": {
      "text/latex": [
       "$\\displaystyle \\text{False}$"
      ],
      "text/plain": [
       "False"
      ]
     },
     "execution_count": 12,
     "metadata": {},
     "output_type": "execute_result"
    }
   ],
   "source": [
    "solve(fx > 0) "
   ]
  },
  {
   "cell_type": "code",
   "execution_count": 13,
   "metadata": {},
   "outputs": [
    {
     "data": {
      "text/latex": [
       "$\\displaystyle -\\infty < x \\wedge x < \\infty$"
      ],
      "text/plain": [
       "(-oo < x) & (x < oo)"
      ]
     },
     "execution_count": 13,
     "metadata": {},
     "output_type": "execute_result"
    }
   ],
   "source": [
    "solve(fx < 0) "
   ]
  }
 ],
 "metadata": {
  "kernelspec": {
   "display_name": "Python 3.10.9 ('.folder': venv)",
   "language": "python",
   "name": "python3"
  },
  "language_info": {
   "codemirror_mode": {
    "name": "ipython",
    "version": 3
   },
   "file_extension": ".py",
   "mimetype": "text/x-python",
   "name": "python",
   "nbconvert_exporter": "python",
   "pygments_lexer": "ipython3",
   "version": "3.10.9"
  },
  "vscode": {
   "interpreter": {
    "hash": "c49aed8fb6fe7cb14ae9d62f85066671db37443e67ecd5e099da9e28d0165394"
   }
  }
 },
 "nbformat": 4,
 "nbformat_minor": 4
}
